{
 "cells": [
  {
   "cell_type": "code",
   "execution_count": 18,
   "id": "72993e47",
   "metadata": {},
   "outputs": [
    {
     "name": "stdout",
     "output_type": "stream",
     "text": [
      "奇数です\n"
     ]
    }
   ],
   "source": [
    "num = 17\n",
    "if num % 2 == 0:\n",
    "    print(\"偶数です\")\n",
    "else:\n",
    "    print(\"奇数です\")"
   ]
  },
  {
   "cell_type": "code",
   "execution_count": 7,
   "id": "080052be",
   "metadata": {},
   "outputs": [
    {
     "name": "stdout",
     "output_type": "stream",
     "text": [
      "Hello,Alice!\n",
      "Hello,Koh!\n"
     ]
    }
   ],
   "source": [
    "def greet(name):\n",
    "    print(\"Hello,\" + name + \"!\")\n",
    "\n",
    "greet(\"Alice\") #Output: Hello, Alice!\n",
    "greet(\"Koh\") #Output: Hello, Koh!"
   ]
  }
 ],
 "metadata": {
  "kernelspec": {
   "display_name": "Python 3",
   "language": "python",
   "name": "python3"
  },
  "language_info": {
   "codemirror_mode": {
    "name": "ipython",
    "version": 3
   },
   "file_extension": ".py",
   "mimetype": "text/x-python",
   "name": "python",
   "nbconvert_exporter": "python",
   "pygments_lexer": "ipython3",
   "version": "3.9.6"
  }
 },
 "nbformat": 4,
 "nbformat_minor": 5
}
