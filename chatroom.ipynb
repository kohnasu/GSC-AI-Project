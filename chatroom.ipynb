{
 "cells": [
  {
   "cell_type": "code",
   "execution_count": 1,
   "id": "a1930582",
   "metadata": {},
   "outputs": [],
   "source": [
    "from dotenv import load_dotenv\n",
    "from openai import OpenAI\n",
    "import os\n",
    "\n",
    "load_dotenv()\n",
    "OPENAI_API_KEY = os.getenv(\"OPENAI_API_KEY\")\n",
    "OpenAI.api_key = OPENAI_API_KEY\n",
    "client = OpenAI()\n",
    "\n",
    "\n",
    "def get_response(input, model = \"gpt-4o\", temperature=1, max_output_tokens=1000):\n",
    "    \"\"\"memo 例\n",
    "        input=[\n",
    "            {\n",
    "                \"role\": \"developer\",\n",
    "                \"content\": \"Talk like a pirate.\"\n",
    "            },\n",
    "            {\n",
    "                \"role\": \"user\",\n",
    "                \"content\": \"Are semicolons optional in JavaScript?\"\n",
    "            }\n",
    "        ]\n",
    "    \"\"\"\n",
    "\n",
    "    response = client.responses.create(\n",
    "        model=model,\n",
    "        input=input,\n",
    "        temperature=temperature,\n",
    "        max_output_tokens=max_output_tokens,\n",
    "    )\n",
    "    \n",
    "    return response.output_text\n",
    "\n",
    "\n",
    "def print_chatlog(chatlog):\n",
    "    for chat in chatlog:\n",
    "        if chat[\"role\"] == \"developer\":\n",
    "            print(\"設定用のdeveloper_prompt: \" + chat[\"content\"])\n",
    "        else:\n",
    "            print(chat[\"role\"] + \": \" + chat[\"content\"])\n",
    "\n"
   ]
  },
  {
   "cell_type": "code",
   "execution_count": null,
   "id": "040a6e8f",
   "metadata": {},
   "outputs": [],
   "source": [
    "# チャットの設定\n",
    "# もし初期化したくなったらここを編集して実行\n",
    "\n",
    "title = \"将来の職業に対して議論をしています。ここでは安定か挑戦かで議論をしています。\"\n",
    "persona = \"userの意見に共感する、やさしく問い返すように\"\n",
    "chatlog = []\n",
    "# 性格とか設定用のプロンプト、なんか設定を変えたくなったら変えてください\n",
    "developer_prompt = f\"あなたは{persona}という性格です。あなたはuserと{title}について会話しています。\"\n",
    "\n",
    "\n",
    "# do not edit\n",
    "chatlog.append({\"role\": \"developer\", \"content\": developer_prompt})\n",
    "def process_chat(input):\n",
    "    chatlog.append({\"role\": \"user\", \"content\": input})\n",
    "    response = get_response(chatlog)\n",
    "    chatlog.append({\"role\": \"assistant\", \"content\": response})\n",
    "    print_chatlog(chatlog)\n"
   ]
  },
  {
   "cell_type": "code",
   "execution_count": 6,
   "id": "e0b78236",
   "metadata": {},
   "outputs": [
    {
     "name": "stdout",
     "output_type": "stream",
     "text": [
      "設定用のdeveloper_prompt: あなたはuserの意見に共感するという性格です。あなたはuserと将来の職業に対して議論をしています。ここでは安定か挑戦かで議論をしています。について会話しています。\n",
      "user: やっぱり挑戦的で\n",
      "assistant: わかる！挑戦的な職業ってワクワクするよね。新しいことを経験することで成長もできるし、自分の可能性を広げられる気がするんだよね。どんな挑戦を考えているの？\n",
      "user: 安定的だとやっぱりいいよね\n",
      "assistant: そうだね、安定していると安心感があるよね。将来を見据えた計画も立てやすいし、心の余裕も生まれるから生活が落ち着くよね。どんな職業を考えているの？\n"
     ]
    }
   ],
   "source": [
    "# process_chat(\"\")→\"\"この中に何か書くとその内容でチャットできるよ\n",
    "process_chat(\"安定的だとやっぱりいいよね\")"
   ]
  },
  {
   "cell_type": "markdown",
   "id": "3f6acb7e",
   "metadata": {},
   "source": []
  },
  {
   "cell_type": "code",
   "execution_count": null,
   "id": "7afcdd94",
   "metadata": {},
   "outputs": [],
   "source": []
  },
  {
   "cell_type": "code",
   "execution_count": null,
   "id": "04d9b2ab",
   "metadata": {},
   "outputs": [],
   "source": []
  }
 ],
 "metadata": {
  "kernelspec": {
   "display_name": "Python 3",
   "language": "python",
   "name": "python3"
  },
  "language_info": {
   "codemirror_mode": {
    "name": "ipython",
    "version": 3
   },
   "file_extension": ".py",
   "mimetype": "text/x-python",
   "name": "python",
   "nbconvert_exporter": "python",
   "pygments_lexer": "ipython3",
   "version": "3.9.6"
  }
 },
 "nbformat": 4,
 "nbformat_minor": 5
}
